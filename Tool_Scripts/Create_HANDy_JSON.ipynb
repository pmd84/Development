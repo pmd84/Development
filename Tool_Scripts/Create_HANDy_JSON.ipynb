{
 "cells": [
  {
   "cell_type": "code",
   "execution_count": 2,
   "metadata": {},
   "outputs": [],
   "source": [
    "import json\n",
    "\n",
    "def create_json(path, UPSAMPLE):\n",
    "\n",
    "    #drop final '/' if there is one at the end of path\n",
    "    if path.endswith(r\"/\"):\n",
    "        path = path[:-1]\n",
    "\n",
    "    #Get variables from input path\n",
    "    parts = path.split('/')\n",
    "    huc8 = parts[1]\n",
    "    huc_iteration = parts[-1]\n",
    "    location = parts[0]\n",
    "\n",
    "    #JSON data\n",
    "    data = {\n",
    "        \"job_id\": 702667625742108,\n",
    "        \"notebook_params\": {\n",
    "            \"dem_levee_blob_path\": f\"handy/{location}/{huc8}/{huc8}.tif\",\n",
    "            \"storage_account\": \"insightprodffrmssta\",\n",
    "            \"cl_blob_path\": f\"handy/{path}/FVA_S_Profil_Basln_{huc8}.shp\",\n",
    "            \"huc_blob_path\": f\"handy/{path}/HUC8_{huc8}.shp\",\n",
    "            \"elev_blob_path\": f\"handy/{path}/FVA_L_XS_Elev.dbf\",\n",
    "            \"xs_blob_path\": f\"handy/{path}/FVA_S_XS_{huc8}.shp\",\n",
    "            \"output_storage_account\": \"insightprodffrmssta\",\n",
    "            \"output_storage_container\": \"handy\",\n",
    "            \"output_path\": f\"{location}/{huc8}/Outputs/{huc_iteration}/\",\n",
    "            \"upsample\": UPSAMPLE\n",
    "        }\n",
    "    }\n",
    "\n",
    "    # Print JSON data\n",
    "    print(json.dumps(data, indent=4))\n"
   ]
  },
  {
   "cell_type": "code",
   "execution_count": 7,
   "metadata": {},
   "outputs": [
    {
     "name": "stdout",
     "output_type": "stream",
     "text": [
      "{\n",
      "    \"job_id\": 702667625742108,\n",
      "    \"notebook_params\": {\n",
      "        \"dem_levee_blob_path\": \"handy/Humboldt_CA/18010211/18010211.tif\",\n",
      "        \"storage_account\": \"insightprodffrmssta\",\n",
      "        \"cl_blob_path\": \"handy/Humboldt_CA/18010211/Inputs/18010211_b/FVA_S_Profil_Basln_18010211.shp\",\n",
      "        \"huc_blob_path\": \"handy/Humboldt_CA/18010211/Inputs/18010211_b/HUC8_18010211.shp\",\n",
      "        \"elev_blob_path\": \"handy/Humboldt_CA/18010211/Inputs/18010211_b/FVA_L_XS_Elev.dbf\",\n",
      "        \"xs_blob_path\": \"handy/Humboldt_CA/18010211/Inputs/18010211_b/FVA_S_XS_18010211.shp\",\n",
      "        \"output_storage_account\": \"insightprodffrmssta\",\n",
      "        \"output_storage_container\": \"handy\",\n",
      "        \"output_path\": \"Humboldt_CA/18010211/Outputs/18010211_b/\",\n",
      "        \"upsample\": \"True\"\n",
      "    }\n",
      "}\n"
     ]
    }
   ],
   "source": [
    "#Change UPSAMPLE to \"True\" or \"False\"\n",
    "UPSAMPLE = \"True\"\n",
    "\n",
    "#Provide input path (manually change each run - copy/paste from ledger)\n",
    "input_path = r'Humboldt_CA/18010211/Inputs/18010211_b/'\n",
    "\n",
    "#Get JSON output\n",
    "create_json(input_path, UPSAMPLE)\n",
    "\n",
    "### VERIFY RESULTS IN AZURE STORAGE EXPLORER ###"
   ]
  }
 ],
 "metadata": {
  "kernelspec": {
   "display_name": "arcgis_clone_230707",
   "language": "python",
   "name": "python3"
  },
  "language_info": {
   "codemirror_mode": {
    "name": "ipython",
    "version": 3
   },
   "file_extension": ".py",
   "mimetype": "text/x-python",
   "name": "python",
   "nbconvert_exporter": "python",
   "pygments_lexer": "ipython3",
   "version": "3.9.16"
  }
 },
 "nbformat": 4,
 "nbformat_minor": 2
}
