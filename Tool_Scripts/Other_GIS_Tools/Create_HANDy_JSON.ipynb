{
 "cells": [
  {
   "cell_type": "code",
   "execution_count": 1,
   "metadata": {},
   "outputs": [],
   "source": [
    "import json\n",
    "\n",
    "def create_json(path, UPSAMPLE):\n",
    "\n",
    "    #drop final '/' if there is one at the end of path\n",
    "    if path.endswith(r\"/\"):\n",
    "        path = path[:-1]\n",
    "\n",
    "    #Get variables from input path\n",
    "    parts = path.split('/')\n",
    "    huc8 = parts[1]\n",
    "    huc_iteration = parts[-1]\n",
    "    location = parts[0]\n",
    "\n",
    "    #JSON data\n",
    "    data = {\n",
    "        \"job_id\": 702667625742108,\n",
    "        \"notebook_params\": {\n",
    "            \"dem_levee_blob_path\": f\"handy/{location}/{huc8}/{huc8}.tif\",\n",
    "            \"storage_account\": \"insightprodffrmssta\",\n",
    "            \"cl_blob_path\": f\"handy/{path}/FVA_S_Profil_Basln_{huc8}.shp\",\n",
    "            \"huc_blob_path\": f\"handy/{path}/HUC8_{huc8}.shp\",\n",
    "            \"elev_blob_path\": f\"handy/{path}/FVA_L_XS_Elev.dbf\",\n",
    "            \"xs_blob_path\": f\"handy/{path}/FVA_S_XS_{huc8}.shp\",\n",
    "            \"output_storage_account\": \"insightprodffrmssta\",\n",
    "            \"output_storage_container\": \"handy\",\n",
    "            \"output_path\": f\"{location}/{huc8}/Outputs/{huc_iteration}/\",\n",
    "            \"upsample\": UPSAMPLE\n",
    "        }\n",
    "    }\n",
    "\n",
    "    # Print JSON data\n",
    "    print(json.dumps(data, indent=4))\n"
   ]
  },
  {
   "cell_type": "code",
   "execution_count": 2,
   "metadata": {},
   "outputs": [
    {
     "name": "stdout",
     "output_type": "stream",
     "text": [
      "{\n",
      "    \"job_id\": 702667625742108,\n",
      "    \"notebook_params\": {\n",
      "        \"dem_levee_blob_path\": \"handy/Clark_NV/15010012/15010012.tif\",\n",
      "        \"storage_account\": \"insightprodffrmssta\",\n",
      "        \"cl_blob_path\": \"handy/Clark_NV/15010012/inputs/15010012_a/FVA_S_Profil_Basln_15010012.shp\",\n",
      "        \"huc_blob_path\": \"handy/Clark_NV/15010012/inputs/15010012_a/HUC8_15010012.shp\",\n",
      "        \"elev_blob_path\": \"handy/Clark_NV/15010012/inputs/15010012_a/FVA_L_XS_Elev.dbf\",\n",
      "        \"xs_blob_path\": \"handy/Clark_NV/15010012/inputs/15010012_a/FVA_S_XS_15010012.shp\",\n",
      "        \"output_storage_account\": \"insightprodffrmssta\",\n",
      "        \"output_storage_container\": \"handy\",\n",
      "        \"output_path\": \"Clark_NV/15010012/Outputs/15010012_a/\",\n",
      "        \"upsample\": \"True\"\n",
      "    }\n",
      "}\n"
     ]
    },
    {
     "ename": "",
     "evalue": "",
     "output_type": "error",
     "traceback": [
      "\u001b[1;31mThe Kernel crashed while executing code in the the current cell or a previous cell. Please review the code in the cell(s) to identify a possible cause of the failure. Click <a href='https://aka.ms/vscodeJupyterKernelCrash'>here</a> for more info. View Jupyter <a href='command:jupyter.viewOutput'>log</a> for further details."
     ]
    }
   ],
   "source": [
    "#Change UPSAMPLE to \"True\" or \"False\"\n",
    "UPSAMPLE = \"True\"\n",
    "\n",
    "#Provide input path (manually change each run - copy/paste from ledger)\n",
    "input_path = r'Clark_NV/15010012/inputs/15010012_a/'\n",
    "\n",
    "#Get JSON output\n",
    "create_json(input_path, UPSAMPLE)\n",
    "\n",
    "### VERIFY RESULTS IN AZURE STORAGE EXPLORER ###"
   ]
  },
  {
   "cell_type": "code",
   "execution_count": null,
   "metadata": {},
   "outputs": [],
   "source": []
  }
 ],
 "metadata": {
  "kernelspec": {
   "display_name": "arcgis_clone_230707",
   "language": "python",
   "name": "python3"
  },
  "language_info": {
   "codemirror_mode": {
    "name": "ipython",
    "version": 3
   },
   "file_extension": ".py",
   "mimetype": "text/x-python",
   "name": "python",
   "nbconvert_exporter": "python",
   "pygments_lexer": "ipython3",
   "version": "3.9.16"
  }
 },
 "nbformat": 4,
 "nbformat_minor": 2
}
